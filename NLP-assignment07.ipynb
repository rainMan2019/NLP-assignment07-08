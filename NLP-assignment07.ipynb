{
 "cells": [
  {
   "cell_type": "markdown",
   "metadata": {},
   "source": [
    "# 作业：新华社新闻抄袭自动判别\n",
    "描述：\n",
    "- 报社等相关的机构，往往会遇到一个问题，就是别人家的机构使用自己的文章但是并没有标明来源。 在本次任务中，我们将解决新华社的文章被抄袭引用的问题。\n",
    "\n",
    "- 给定的数据集合中，存在一些新闻预料，该预料是来自新华社，但是其来源并不是新华社，请设计技巧学习模型解决该问题。\n",
    "+ 1. 构建一个机器学习模型，判断这个文章是不是新华社的\n",
    "+ 2. 当这个模型的acc 大于 0.8778， recall， precision，f1等值都较高的时候\n",
    "+ 3. 用该模型 判断一篇文章是否是新华社的文章，如果判断出来是新华社的，但是，它的source并不是新华社的，那么，我们就说，这个文章是抄袭的新华社的文章"
   ]
  },
  {
   "cell_type": "markdown",
   "metadata": {},
   "source": [
    "# Step1: 数据分析\n",
    "请在课程的GitHub中下载数据集，然后使用pandas进行读取。"
   ]
  },
  {
   "cell_type": "code",
   "execution_count": 1,
   "metadata": {},
   "outputs": [],
   "source": [
    "fname = 'C:\\\\Users\\DELL\\\\Desktop\\\\NLP\\\\course1\\\\export_sql_1558435\\\\sqlResult_1558435.csv'  # 需要修改数据集的绝对路径"
   ]
  },
  {
   "cell_type": "code",
   "execution_count": 2,
   "metadata": {},
   "outputs": [],
   "source": [
    "import pandas as pd\n",
    "import numpy as np\n",
    "import matplotlib as plt\n",
    "import jieba\n",
    "import scipy\n",
    "import sklearn\n",
    "import time, timeit\n",
    "import re"
   ]
  },
  {
   "cell_type": "code",
   "execution_count": 201,
   "metadata": {},
   "outputs": [],
   "source": [
    "contents = pd.read_csv(fname, encoding='gb18030')"
   ]
  },
  {
   "cell_type": "code",
   "execution_count": 202,
   "metadata": {},
   "outputs": [
    {
     "data": {
      "text/html": [
       "<div>\n",
       "<style scoped>\n",
       "    .dataframe tbody tr th:only-of-type {\n",
       "        vertical-align: middle;\n",
       "    }\n",
       "\n",
       "    .dataframe tbody tr th {\n",
       "        vertical-align: top;\n",
       "    }\n",
       "\n",
       "    .dataframe thead th {\n",
       "        text-align: right;\n",
       "    }\n",
       "</style>\n",
       "<table border=\"1\" class=\"dataframe\">\n",
       "  <thead>\n",
       "    <tr style=\"text-align: right;\">\n",
       "      <th></th>\n",
       "      <th>id</th>\n",
       "      <th>author</th>\n",
       "      <th>source</th>\n",
       "      <th>content</th>\n",
       "      <th>feature</th>\n",
       "      <th>title</th>\n",
       "      <th>url</th>\n",
       "    </tr>\n",
       "  </thead>\n",
       "  <tbody>\n",
       "    <tr>\n",
       "      <th>0</th>\n",
       "      <td>89617</td>\n",
       "      <td>NaN</td>\n",
       "      <td>快科技@http://www.kkj.cn/</td>\n",
       "      <td>此外，自本周（6月12日）起，除小米手机6等15款机型外，其余机型已暂停更新发布（含开发版/...</td>\n",
       "      <td>{\"type\":\"科技\",\"site\":\"cnbeta\",\"commentNum\":\"37\"...</td>\n",
       "      <td>小米MIUI 9首批机型曝光：共计15款</td>\n",
       "      <td>http://www.cnbeta.com/articles/tech/623597.htm</td>\n",
       "    </tr>\n",
       "    <tr>\n",
       "      <th>1</th>\n",
       "      <td>89616</td>\n",
       "      <td>NaN</td>\n",
       "      <td>快科技@http://www.kkj.cn/</td>\n",
       "      <td>骁龙835作为唯一通过Windows 10桌面平台认证的ARM处理器，高通强调，不会因为只考...</td>\n",
       "      <td>{\"type\":\"科技\",\"site\":\"cnbeta\",\"commentNum\":\"15\"...</td>\n",
       "      <td>骁龙835在Windows 10上的性能表现有望改善</td>\n",
       "      <td>http://www.cnbeta.com/articles/tech/623599.htm</td>\n",
       "    </tr>\n",
       "    <tr>\n",
       "      <th>2</th>\n",
       "      <td>89615</td>\n",
       "      <td>NaN</td>\n",
       "      <td>快科技@http://www.kkj.cn/</td>\n",
       "      <td>此前的一加3T搭载的是3400mAh电池，DashCharge快充规格为5V/4A。\\r\\n...</td>\n",
       "      <td>{\"type\":\"科技\",\"site\":\"cnbeta\",\"commentNum\":\"18\"...</td>\n",
       "      <td>一加手机5细节曝光：3300mAh、充半小时用1天</td>\n",
       "      <td>http://www.cnbeta.com/articles/tech/623601.htm</td>\n",
       "    </tr>\n",
       "    <tr>\n",
       "      <th>3</th>\n",
       "      <td>89614</td>\n",
       "      <td>NaN</td>\n",
       "      <td>新华社</td>\n",
       "      <td>这是6月18日在葡萄牙中部大佩德罗冈地区拍摄的被森林大火烧毁的汽车。新华社记者张立云摄\\r\\n</td>\n",
       "      <td>{\"type\":\"国际新闻\",\"site\":\"环球\",\"commentNum\":\"0\",\"j...</td>\n",
       "      <td>葡森林火灾造成至少62人死亡 政府宣布进入紧急状态（组图）</td>\n",
       "      <td>http://world.huanqiu.com/hot/2017-06/10866126....</td>\n",
       "    </tr>\n",
       "    <tr>\n",
       "      <th>4</th>\n",
       "      <td>89613</td>\n",
       "      <td>胡淑丽_MN7479</td>\n",
       "      <td>深圳大件事</td>\n",
       "      <td>（原标题：44岁女子跑深圳约会网友被拒，暴雨中裸身奔走……）\\r\\n@深圳交警微博称：昨日清...</td>\n",
       "      <td>{\"type\":\"新闻\",\"site\":\"网易热门\",\"commentNum\":\"978\",...</td>\n",
       "      <td>44岁女子约网友被拒暴雨中裸奔 交警为其披衣相随</td>\n",
       "      <td>http://news.163.com/17/0618/00/CN617P3Q0001875...</td>\n",
       "    </tr>\n",
       "  </tbody>\n",
       "</table>\n",
       "</div>"
      ],
      "text/plain": [
       "      id      author                  source  \\\n",
       "0  89617         NaN  快科技@http://www.kkj.cn/   \n",
       "1  89616         NaN  快科技@http://www.kkj.cn/   \n",
       "2  89615         NaN  快科技@http://www.kkj.cn/   \n",
       "3  89614         NaN                     新华社   \n",
       "4  89613  胡淑丽_MN7479                   深圳大件事   \n",
       "\n",
       "                                             content  \\\n",
       "0  此外，自本周（6月12日）起，除小米手机6等15款机型外，其余机型已暂停更新发布（含开发版/...   \n",
       "1  骁龙835作为唯一通过Windows 10桌面平台认证的ARM处理器，高通强调，不会因为只考...   \n",
       "2  此前的一加3T搭载的是3400mAh电池，DashCharge快充规格为5V/4A。\\r\\n...   \n",
       "3    这是6月18日在葡萄牙中部大佩德罗冈地区拍摄的被森林大火烧毁的汽车。新华社记者张立云摄\\r\\n   \n",
       "4  （原标题：44岁女子跑深圳约会网友被拒，暴雨中裸身奔走……）\\r\\n@深圳交警微博称：昨日清...   \n",
       "\n",
       "                                             feature  \\\n",
       "0  {\"type\":\"科技\",\"site\":\"cnbeta\",\"commentNum\":\"37\"...   \n",
       "1  {\"type\":\"科技\",\"site\":\"cnbeta\",\"commentNum\":\"15\"...   \n",
       "2  {\"type\":\"科技\",\"site\":\"cnbeta\",\"commentNum\":\"18\"...   \n",
       "3  {\"type\":\"国际新闻\",\"site\":\"环球\",\"commentNum\":\"0\",\"j...   \n",
       "4  {\"type\":\"新闻\",\"site\":\"网易热门\",\"commentNum\":\"978\",...   \n",
       "\n",
       "                           title  \\\n",
       "0           小米MIUI 9首批机型曝光：共计15款   \n",
       "1     骁龙835在Windows 10上的性能表现有望改善   \n",
       "2      一加手机5细节曝光：3300mAh、充半小时用1天   \n",
       "3  葡森林火灾造成至少62人死亡 政府宣布进入紧急状态（组图）   \n",
       "4       44岁女子约网友被拒暴雨中裸奔 交警为其披衣相随   \n",
       "\n",
       "                                                 url  \n",
       "0     http://www.cnbeta.com/articles/tech/623597.htm  \n",
       "1     http://www.cnbeta.com/articles/tech/623599.htm  \n",
       "2     http://www.cnbeta.com/articles/tech/623601.htm  \n",
       "3  http://world.huanqiu.com/hot/2017-06/10866126....  \n",
       "4  http://news.163.com/17/0618/00/CN617P3Q0001875...  "
      ]
     },
     "execution_count": 202,
     "metadata": {},
     "output_type": "execute_result"
    }
   ],
   "source": [
    "contents.head()"
   ]
  },
  {
   "cell_type": "code",
   "execution_count": 203,
   "metadata": {},
   "outputs": [],
   "source": [
    "xinhua_news = contents[contents['source'] == '新华社']"
   ]
  },
  {
   "cell_type": "code",
   "execution_count": 204,
   "metadata": {},
   "outputs": [
    {
     "data": {
      "text/plain": [
       "78661"
      ]
     },
     "execution_count": 204,
     "metadata": {},
     "output_type": "execute_result"
    }
   ],
   "source": [
    "len(xinhua_news)"
   ]
  },
  {
   "cell_type": "code",
   "execution_count": 205,
   "metadata": {},
   "outputs": [
    {
     "data": {
      "text/plain": [
       "0.8778051801676133"
      ]
     },
     "execution_count": 205,
     "metadata": {},
     "output_type": "execute_result"
    }
   ],
   "source": [
    "len(xinhua_news) / len(contents)"
   ]
  },
  {
   "cell_type": "markdown",
   "metadata": {},
   "source": [
    "# Step2: 数据预处理\n",
    "将pandas中的数据，依据是否是新华社的文章，请改变成新的数据dataframe: <content, y>, 其中，content是文章内容，y是0或者1. \n",
    "\n",
    "你可能要使用到pandas的dataframe操作。https://pandas.pydata.org/pandas-docs/stable/reference/api/pandas.DataFrame.apply.html"
   ]
  },
  {
   "cell_type": "code",
   "execution_count": 206,
   "metadata": {},
   "outputs": [
    {
     "data": {
      "text/plain": [
       "pandas.core.frame.DataFrame"
      ]
     },
     "execution_count": 206,
     "metadata": {},
     "output_type": "execute_result"
    }
   ],
   "source": [
    "type(contents) # 已经是DataFrame类型了"
   ]
  },
  {
   "cell_type": "code",
   "execution_count": 207,
   "metadata": {},
   "outputs": [],
   "source": [
    "def cut(string):\n",
    "    return ''.join(jieba.cut(string))"
   ]
  },
  {
   "cell_type": "code",
   "execution_count": 269,
   "metadata": {},
   "outputs": [],
   "source": [
    "import re\n",
    "\n",
    "def token(string):\n",
    "    str_list = re.findall(r'[\\d|\\w]+', string) # 只要数字和文字\n",
    "    pre_str = ''.join(str_list)\n",
    "    if len(pre_str) > 0:\n",
    "        return ''.join(jieba.cut(re.sub('n','',pre_str)))\n",
    "    else:\n",
    "        return ''"
   ]
  },
  {
   "cell_type": "code",
   "execution_count": 270,
   "metadata": {},
   "outputs": [],
   "source": [
    "contents = contents.fillna('')  # 填充空值"
   ]
  },
  {
   "cell_type": "markdown",
   "metadata": {},
   "source": [
    "+ 8万条新闻处理太慢了，我等不了这么久，所以抽取十分之一的新闻来训练和测试"
   ]
  },
  {
   "cell_type": "code",
   "execution_count": 271,
   "metadata": {},
   "outputs": [],
   "source": [
    "contents = contents.sample(n=10000)  # 序列a中随机抽取n个元素，并将n个元素生以list形式返回"
   ]
  },
  {
   "cell_type": "code",
   "execution_count": 272,
   "metadata": {},
   "outputs": [
    {
     "data": {
      "text/plain": [
       "10000"
      ]
     },
     "execution_count": 272,
     "metadata": {},
     "output_type": "execute_result"
    }
   ],
   "source": [
    "len(contents)"
   ]
  },
  {
   "cell_type": "code",
   "execution_count": 273,
   "metadata": {},
   "outputs": [],
   "source": [
    "contents['content'] = contents['content'].apply(token)"
   ]
  },
  {
   "cell_type": "code",
   "execution_count": 274,
   "metadata": {},
   "outputs": [],
   "source": [
    "contents['title'] = contents['title'].apply(token)"
   ]
  },
  {
   "cell_type": "code",
   "execution_count": 275,
   "metadata": {},
   "outputs": [
    {
     "data": {
      "text/plain": [
       "Index(['id', 'author', 'source', 'content', 'feature', 'title', 'url',\n",
       "       'is_xinhua'],\n",
       "      dtype='object')"
      ]
     },
     "execution_count": 275,
     "metadata": {},
     "output_type": "execute_result"
    }
   ],
   "source": [
    "contents.columns  "
   ]
  },
  {
   "cell_type": "markdown",
   "metadata": {},
   "source": [
    "- 再加一列来做标签，当y=1时标记为新华社的文章，否则不是"
   ]
  },
  {
   "cell_type": "code",
   "execution_count": 276,
   "metadata": {},
   "outputs": [],
   "source": [
    "contents['is_xinhua'] = np.where(contents['source'].str.contains('新华'), 1, 0)"
   ]
  },
  {
   "cell_type": "code",
   "execution_count": 277,
   "metadata": {},
   "outputs": [
    {
     "data": {
      "text/html": [
       "<div>\n",
       "<style scoped>\n",
       "    .dataframe tbody tr th:only-of-type {\n",
       "        vertical-align: middle;\n",
       "    }\n",
       "\n",
       "    .dataframe tbody tr th {\n",
       "        vertical-align: top;\n",
       "    }\n",
       "\n",
       "    .dataframe thead th {\n",
       "        text-align: right;\n",
       "    }\n",
       "</style>\n",
       "<table border=\"1\" class=\"dataframe\">\n",
       "  <thead>\n",
       "    <tr style=\"text-align: right;\">\n",
       "      <th></th>\n",
       "      <th>id</th>\n",
       "      <th>author</th>\n",
       "      <th>source</th>\n",
       "      <th>content</th>\n",
       "      <th>feature</th>\n",
       "      <th>title</th>\n",
       "      <th>url</th>\n",
       "      <th>is_xinhua</th>\n",
       "    </tr>\n",
       "  </thead>\n",
       "  <tbody>\n",
       "    <tr>\n",
       "      <th>10634</th>\n",
       "      <td>78979</td>\n",
       "      <td></td>\n",
       "      <td>河南日报第03版</td>\n",
       "      <td>本报讯6月10日雨天的早晨天亮得晚一些但南阳市卧龙区蒲山镇师杨庄村贫困户袁玉敏已经早早起床伺...</td>\n",
       "      <td>{\"type\":\"要闻\",\"site\":\"河南日报\",\"commentNum\":\"0\",\"j...</td>\n",
       "      <td>车间进农户脱贫有出路</td>\n",
       "      <td>http://newpaper.dahe.cn/hnrb/html/2017-06/14/c...</td>\n",
       "      <td>0</td>\n",
       "    </tr>\n",
       "    <tr>\n",
       "      <th>74690</th>\n",
       "      <td>14922</td>\n",
       "      <td>王方（湖北）</td>\n",
       "      <td>新华社</td>\n",
       "      <td>新华社照片武汉2017年5月25日湖北消防部队开展抗洪抢险救援演练5月25日消防官兵驾驶水陆...</td>\n",
       "      <td>{\"type\":\"军事教育与训练\",\"site\":\"新华社\",\"url\":\"http://h...</td>\n",
       "      <td>社会1湖北消防部队开展抗洪抢险救援演练</td>\n",
       "      <td>http://home.xinhua-news.com/gdsdetailxhsnew/21...</td>\n",
       "      <td>1</td>\n",
       "    </tr>\n",
       "    <tr>\n",
       "      <th>6672</th>\n",
       "      <td>82945</td>\n",
       "      <td></td>\n",
       "      <td>经济参考报</td>\n",
       "      <td>工业和信息化部部长苗圩19日在参观青海省西宁市南川工业园区时表示未来将进一步推进新能源汽车顶...</td>\n",
       "      <td>{\"type\":\"新闻\",\"site\":\"中证网\",\"commentNum\":\"0\",\"jo...</td>\n",
       "      <td>工信部将推进新能源车顶层设计多领域政策将制定</td>\n",
       "      <td>http://www.cs.com.cn/xwzx/201706/t20170620_533...</td>\n",
       "      <td>0</td>\n",
       "    </tr>\n",
       "    <tr>\n",
       "      <th>69358</th>\n",
       "      <td>20254</td>\n",
       "      <td>罗欢欢</td>\n",
       "      <td>新华社</td>\n",
       "      <td>新华社照片科隆德国2017年5月21日体育4冰球世锦赛加拿大晋级决赛5月20日加拿大队球员沙...</td>\n",
       "      <td>{\"type\":\"体育\",\"site\":\"新华社\",\"url\":\"http://home.x...</td>\n",
       "      <td>体育4冰球世锦赛加拿大晋级决赛</td>\n",
       "      <td>http://home.xinhua-news.com/gdsdetailxhsnew/21...</td>\n",
       "      <td>1</td>\n",
       "    </tr>\n",
       "    <tr>\n",
       "      <th>33812</th>\n",
       "      <td>55800</td>\n",
       "      <td>林宏</td>\n",
       "      <td>新华社</td>\n",
       "      <td>新华社照片农安吉林2017年4月19日吉林春耕生产忙4月19日吉林省农安县陈家窝堡村农民在地...</td>\n",
       "      <td>{\"type\":\"行业经济\",\"site\":\"新华社\",\"url\":\"http://home...</td>\n",
       "      <td>经济2吉林春耕生产忙</td>\n",
       "      <td>http://home.xinhua-news.com/gdsdetailxhsnew/19...</td>\n",
       "      <td>1</td>\n",
       "    </tr>\n",
       "  </tbody>\n",
       "</table>\n",
       "</div>"
      ],
      "text/plain": [
       "          id  author    source  \\\n",
       "10634  78979          河南日报第03版   \n",
       "74690  14922  王方（湖北）       新华社   \n",
       "6672   82945             经济参考报   \n",
       "69358  20254     罗欢欢       新华社   \n",
       "33812  55800      林宏       新华社   \n",
       "\n",
       "                                                 content  \\\n",
       "10634  本报讯6月10日雨天的早晨天亮得晚一些但南阳市卧龙区蒲山镇师杨庄村贫困户袁玉敏已经早早起床伺...   \n",
       "74690  新华社照片武汉2017年5月25日湖北消防部队开展抗洪抢险救援演练5月25日消防官兵驾驶水陆...   \n",
       "6672   工业和信息化部部长苗圩19日在参观青海省西宁市南川工业园区时表示未来将进一步推进新能源汽车顶...   \n",
       "69358  新华社照片科隆德国2017年5月21日体育4冰球世锦赛加拿大晋级决赛5月20日加拿大队球员沙...   \n",
       "33812  新华社照片农安吉林2017年4月19日吉林春耕生产忙4月19日吉林省农安县陈家窝堡村农民在地...   \n",
       "\n",
       "                                                 feature  \\\n",
       "10634  {\"type\":\"要闻\",\"site\":\"河南日报\",\"commentNum\":\"0\",\"j...   \n",
       "74690  {\"type\":\"军事教育与训练\",\"site\":\"新华社\",\"url\":\"http://h...   \n",
       "6672   {\"type\":\"新闻\",\"site\":\"中证网\",\"commentNum\":\"0\",\"jo...   \n",
       "69358  {\"type\":\"体育\",\"site\":\"新华社\",\"url\":\"http://home.x...   \n",
       "33812  {\"type\":\"行业经济\",\"site\":\"新华社\",\"url\":\"http://home...   \n",
       "\n",
       "                        title  \\\n",
       "10634              车间进农户脱贫有出路   \n",
       "74690     社会1湖北消防部队开展抗洪抢险救援演练   \n",
       "6672   工信部将推进新能源车顶层设计多领域政策将制定   \n",
       "69358         体育4冰球世锦赛加拿大晋级决赛   \n",
       "33812              经济2吉林春耕生产忙   \n",
       "\n",
       "                                                     url  is_xinhua  \n",
       "10634  http://newpaper.dahe.cn/hnrb/html/2017-06/14/c...          0  \n",
       "74690  http://home.xinhua-news.com/gdsdetailxhsnew/21...          1  \n",
       "6672   http://www.cs.com.cn/xwzx/201706/t20170620_533...          0  \n",
       "69358  http://home.xinhua-news.com/gdsdetailxhsnew/21...          1  \n",
       "33812  http://home.xinhua-news.com/gdsdetailxhsnew/19...          1  "
      ]
     },
     "execution_count": 277,
     "metadata": {},
     "output_type": "execute_result"
    }
   ],
   "source": [
    "contents.head()"
   ]
  },
  {
   "cell_type": "code",
   "execution_count": 278,
   "metadata": {},
   "outputs": [
    {
     "name": "stdout",
     "output_type": "stream",
     "text": [
      "78979\n"
     ]
    }
   ],
   "source": [
    "print(contents.iloc[0]['id'])  # 访问其中的元素"
   ]
  },
  {
   "cell_type": "code",
   "execution_count": 279,
   "metadata": {},
   "outputs": [],
   "source": [
    "xinhua_news = contents[contents['source'] == '新华社']"
   ]
  },
  {
   "cell_type": "code",
   "execution_count": 280,
   "metadata": {},
   "outputs": [
    {
     "data": {
      "text/plain": [
       "8745"
      ]
     },
     "execution_count": 280,
     "metadata": {},
     "output_type": "execute_result"
    }
   ],
   "source": [
    "len(xinhua_news)"
   ]
  },
  {
   "cell_type": "code",
   "execution_count": 281,
   "metadata": {},
   "outputs": [
    {
     "data": {
      "text/plain": [
       "0.8745"
      ]
     },
     "execution_count": 281,
     "metadata": {},
     "output_type": "execute_result"
    }
   ],
   "source": [
    "len(xinhua_news) / len(contents)  # 随机提取8000条新闻和全部80000条新闻的比例是一样的"
   ]
  },
  {
   "cell_type": "markdown",
   "metadata": {},
   "source": [
    "# Step3: 使用tfidf进行文本向量化\n",
    "参考 https://scikit-learn.org/stable/modules/generated/sklearn.feature_extraction.text.TfidfVectorizer.html 对\n",
    "\n",
    "对文本进行向量化"
   ]
  },
  {
   "cell_type": "code",
   "execution_count": 282,
   "metadata": {},
   "outputs": [],
   "source": [
    "X_title = contents['title'].values  # 提取title的内容,已经cut()完了"
   ]
  },
  {
   "cell_type": "code",
   "execution_count": 284,
   "metadata": {},
   "outputs": [],
   "source": [
    "# for title in X_title:\n",
    "#     if title==None:\n",
    "#         print(title)"
   ]
  },
  {
   "cell_type": "code",
   "execution_count": 285,
   "metadata": {},
   "outputs": [],
   "source": [
    "X_content = contents['content'].values # 提取contents的内容"
   ]
  },
  {
   "cell_type": "code",
   "execution_count": 286,
   "metadata": {},
   "outputs": [],
   "source": [
    "y = contents['is_xinhua'].values  # 标记值"
   ]
  },
  {
   "cell_type": "code",
   "execution_count": 287,
   "metadata": {},
   "outputs": [
    {
     "name": "stdout",
     "output_type": "stream",
     "text": [
      "10000 10000 10000\n"
     ]
    }
   ],
   "source": [
    "print(len(X_title),len(X_content),len(y))"
   ]
  },
  {
   "cell_type": "code",
   "execution_count": 288,
   "metadata": {},
   "outputs": [],
   "source": [
    "from sklearn.feature_extraction.text import TfidfVectorizer\n",
    "from sklearn.model_selection import train_test_split"
   ]
  },
  {
   "cell_type": "code",
   "execution_count": 289,
   "metadata": {},
   "outputs": [],
   "source": [
    "vectorizer = TfidfVectorizer(max_features=600)  # 提取排名前10000个特征"
   ]
  },
  {
   "cell_type": "code",
   "execution_count": 290,
   "metadata": {},
   "outputs": [],
   "source": [
    "X_title = vectorizer.fit_transform(X_title)"
   ]
  },
  {
   "cell_type": "code",
   "execution_count": 291,
   "metadata": {},
   "outputs": [],
   "source": [
    "X_content = vectorizer.fit_transform(X_content) "
   ]
  },
  {
   "cell_type": "code",
   "execution_count": 292,
   "metadata": {},
   "outputs": [
    {
     "data": {
      "text/plain": [
       "(10000, 600)"
      ]
     },
     "execution_count": 292,
     "metadata": {},
     "output_type": "execute_result"
    }
   ],
   "source": [
    "X_title.shape   # 8000条新闻内容，每一条新闻内容有10000个特征"
   ]
  },
  {
   "cell_type": "code",
   "execution_count": 293,
   "metadata": {},
   "outputs": [
    {
     "data": {
      "text/plain": [
       "(10000, 600)"
      ]
     },
     "execution_count": 293,
     "metadata": {},
     "output_type": "execute_result"
    }
   ],
   "source": [
    "X_content.shape # 就是个矩阵"
   ]
  },
  {
   "cell_type": "markdown",
   "metadata": {},
   "source": [
    "- **把新闻id和向量之间建立一个映射，之后预测不是新华社的新闻可以还原出来**\n",
    "\n",
    "- 假定向量与原来新闻之间是有序的，是按照顺序进行的向量化"
   ]
  },
  {
   "cell_type": "code",
   "execution_count": 294,
   "metadata": {},
   "outputs": [],
   "source": [
    "newsID_vec = {} # key为向量(稀疏矩阵的表现形式) value为id,\n",
    "for i in range(len(contents)):\n",
    "    newsID_vec[contents.iloc[i]['id']] = X_content[i] "
   ]
  },
  {
   "cell_type": "markdown",
   "metadata": {},
   "source": [
    "# Step4: 参考scikit-learning的方法，构建你的第一个机器学习模型\n",
    "按照课程讲解的内容，把数据集分割为 traning_data, validation_data, test_data. \n",
    "- 参考：https://scikit-learn.org/stable/modules/generated/sklearn.model_selection.train_test_split.html\n",
    "\n",
    "参照scikit learning的示例，从构建你的第一个KNN机器学习模型。\n",
    "- 参考：https://scikit-learn.org/stable/modules/neighbors.html#classification\n",
    "     https://scikit-learn.org/stable/modules/generated/sklearn.neighbors.KNeighborsClassifier.html#sklearn.neighbors.KNeighborsClassifier.fit"
   ]
  },
  {
   "cell_type": "markdown",
   "metadata": {},
   "source": [
    "- 把**标题**划分训练集和测试集"
   ]
  },
  {
   "cell_type": "code",
   "execution_count": 295,
   "metadata": {},
   "outputs": [],
   "source": [
    "X_t_train, X_t_test, y_t_train, y_t_test = train_test_split(X_title, y, test_size=0.25, random_state=0)  "
   ]
  },
  {
   "cell_type": "markdown",
   "metadata": {},
   "source": [
    "- 把**新闻内容**划分训练集和测试集"
   ]
  },
  {
   "cell_type": "code",
   "execution_count": 296,
   "metadata": {},
   "outputs": [],
   "source": [
    "X_c_train, X_c_test, y_c_train, y_c_test = train_test_split(X_content, y, test_size=0.25, random_state=0)"
   ]
  },
  {
   "cell_type": "code",
   "execution_count": 297,
   "metadata": {},
   "outputs": [
    {
     "data": {
      "text/plain": [
       "(7500, 600)"
      ]
     },
     "execution_count": 297,
     "metadata": {},
     "output_type": "execute_result"
    }
   ],
   "source": [
    "X_t_train.shape"
   ]
  },
  {
   "cell_type": "code",
   "execution_count": 298,
   "metadata": {},
   "outputs": [
    {
     "data": {
      "text/plain": [
       "(2500, 600)"
      ]
     },
     "execution_count": 298,
     "metadata": {},
     "output_type": "execute_result"
    }
   ],
   "source": [
    "X_t_test.shape"
   ]
  },
  {
   "cell_type": "markdown",
   "metadata": {},
   "source": [
    "# 以下过程是对上述划分函数的功能的具体实现"
   ]
  },
  {
   "cell_type": "code",
   "execution_count": 83,
   "metadata": {},
   "outputs": [],
   "source": [
    "indices = np.arange(len(y)) # 下标从0-7999"
   ]
  },
  {
   "cell_type": "code",
   "execution_count": 84,
   "metadata": {},
   "outputs": [],
   "source": [
    "np.random.shuffle(indices)  # 把原来数组随机排列一次，打乱顺序"
   ]
  },
  {
   "cell_type": "code",
   "execution_count": 85,
   "metadata": {},
   "outputs": [],
   "source": [
    "split_test = 0.75  # 这里有不一致的地方"
   ]
  },
  {
   "cell_type": "code",
   "execution_count": 86,
   "metadata": {},
   "outputs": [],
   "source": [
    "train_indices = indices[:int(len(indices)*split_test)]"
   ]
  },
  {
   "cell_type": "code",
   "execution_count": 87,
   "metadata": {},
   "outputs": [
    {
     "data": {
      "text/plain": [
       "6000"
      ]
     },
     "execution_count": 87,
     "metadata": {},
     "output_type": "execute_result"
    }
   ],
   "source": [
    "len(train_indices)"
   ]
  },
  {
   "cell_type": "code",
   "execution_count": 88,
   "metadata": {},
   "outputs": [],
   "source": [
    "test_indices = indices[int(len(indices)*split_test):]"
   ]
  },
  {
   "cell_type": "code",
   "execution_count": 89,
   "metadata": {},
   "outputs": [
    {
     "data": {
      "text/plain": [
       "2000"
      ]
     },
     "execution_count": 89,
     "metadata": {},
     "output_type": "execute_result"
    }
   ],
   "source": [
    "len(test_indices)"
   ]
  },
  {
   "cell_type": "code",
   "execution_count": 90,
   "metadata": {},
   "outputs": [],
   "source": [
    "X_t_train, X_t_test, y_train, y_test = (\n",
    "    X_title[train_indices], X_title[test_indices], \n",
    "    y[train_indices], y[test_indices])"
   ]
  },
  {
   "cell_type": "code",
   "execution_count": 91,
   "metadata": {},
   "outputs": [
    {
     "data": {
      "text/plain": [
       "<6000x600 sparse matrix of type '<class 'numpy.float64'>'\n",
       "\twith 22176 stored elements in Compressed Sparse Row format>"
      ]
     },
     "execution_count": 91,
     "metadata": {},
     "output_type": "execute_result"
    }
   ],
   "source": [
    "X_t_train"
   ]
  },
  {
   "cell_type": "code",
   "execution_count": 92,
   "metadata": {},
   "outputs": [
    {
     "data": {
      "text/plain": [
       "<2000x600 sparse matrix of type '<class 'numpy.float64'>'\n",
       "\twith 7378 stored elements in Compressed Sparse Row format>"
      ]
     },
     "execution_count": 92,
     "metadata": {},
     "output_type": "execute_result"
    }
   ],
   "source": [
    "X_t_test"
   ]
  },
  {
   "cell_type": "code",
   "execution_count": 93,
   "metadata": {},
   "outputs": [
    {
     "data": {
      "text/plain": [
       "6000"
      ]
     },
     "execution_count": 93,
     "metadata": {},
     "output_type": "execute_result"
    }
   ],
   "source": [
    "len(y_train)"
   ]
  },
  {
   "cell_type": "code",
   "execution_count": 94,
   "metadata": {},
   "outputs": [
    {
     "data": {
      "text/plain": [
       "2000"
      ]
     },
     "execution_count": 94,
     "metadata": {},
     "output_type": "execute_result"
    }
   ],
   "source": [
    "len(y_test)"
   ]
  },
  {
   "cell_type": "markdown",
   "metadata": {},
   "source": [
    "# 先把新闻标题作为训练集，然后进行分类和预测"
   ]
  },
  {
   "cell_type": "code",
   "execution_count": 299,
   "metadata": {},
   "outputs": [],
   "source": [
    "from sklearn.metrics import confusion_matrix\n",
    "from sklearn import neighbors, datasets"
   ]
  },
  {
   "cell_type": "markdown",
   "metadata": {},
   "source": [
    "# Based on Title or Based on Content?\n",
    "Answer: Just Try it"
   ]
  },
  {
   "cell_type": "code",
   "execution_count": 308,
   "metadata": {},
   "outputs": [],
   "source": [
    "from sklearn.metrics import precision_score\n",
    "from sklearn.metrics import recall_score\n",
    "from sklearn.metrics import roc_auc_score\n",
    "from sklearn.metrics import confusion_matrix"
   ]
  },
  {
   "cell_type": "code",
   "execution_count": 309,
   "metadata": {},
   "outputs": [],
   "source": [
    "def get_performance(clf, X_, y_, sample=1000):  # sample表示取出多少个样例出来\n",
    "    random_indices = np.random.choice(np.arange(len(y_)), sample) \n",
    "    sub_x = X_[random_indices]  # 实际的X值\n",
    "    sub_y = y_[random_indices]  # 实际的Y值\n",
    "    y_hat = clf.predict(sub_x.toarray())  # 预测的Y值\n",
    "    print('percision is: {}'.format(precision_score(sub_y, y_hat)))\n",
    "    print('recall is: {}'.format(recall_score(sub_y, y_hat)))\n",
    "    print('roc_auc is: {}'.format(roc_auc_score(sub_y, y_hat)))\n",
    "    print('confusion matrix: \\n{}'.format(confusion_matrix(sub_y, y_hat, labels=[0, 1])))"
   ]
  },
  {
   "cell_type": "code",
   "execution_count": 310,
   "metadata": {},
   "outputs": [
    {
     "name": "stdout",
     "output_type": "stream",
     "text": [
      "percision is: 0.8732583065380493\n",
      "recall is: 0.9986211123027424\n",
      "roc_auc is: 0.5131851707454103\n",
      "confusion matrix: \n",
      "[[  27  946]\n",
      " [   9 6518]]\n"
     ]
    }
   ],
   "source": [
    "# we create an instance of Neighbours Classifier and fit the data.\n",
    "clf_t = neighbors.KNeighborsClassifier(n_neighbors=6, weights='uniform')  # or weights='distance'\n",
    "clf_t.fit(X_t_train.toarray(), y_t_train)\n",
    "get_performance(clf_t, X_=X_t_train, y_=y_t_train, sample=7500)  # 所有测试集就是7500"
   ]
  },
  {
   "cell_type": "markdown",
   "metadata": {},
   "source": [
    "# Step7: 调整不同的参数，观察变化（主要是调整邻居的个数，此外还有特征个数）"
   ]
  },
  {
   "cell_type": "code",
   "execution_count": 311,
   "metadata": {},
   "outputs": [
    {
     "name": "stdout",
     "output_type": "stream",
     "text": [
      "percision is: 0.8664617029808849\n",
      "recall is: 0.9992292276861415\n",
      "roc_auc is: 0.506524781661432\n",
      "confusion matrix: \n",
      "[[  14  999]\n",
      " [   5 6482]]\n"
     ]
    }
   ],
   "source": [
    "clf_t = neighbors.KNeighborsClassifier(n_neighbors=8, weights='uniform')\n",
    "clf_t.fit(X_t_train.toarray(), y_t_train)\n",
    "get_performance(clf_t, X_=X_t_train, y_=y_t_train, sample=7500)"
   ]
  },
  {
   "cell_type": "code",
   "execution_count": 312,
   "metadata": {},
   "outputs": [
    {
     "name": "stdout",
     "output_type": "stream",
     "text": [
      "percision is: 0.8762845322300814\n",
      "recall is: 1.0\n",
      "roc_auc is: 0.503747323340471\n",
      "confusion matrix: \n",
      "[[   7  927]\n",
      " [   0 6566]]\n"
     ]
    }
   ],
   "source": [
    "clf_t = neighbors.KNeighborsClassifier(n_neighbors=12, weights='uniform')\n",
    "clf_t.fit(X_t_train.toarray(), y_t_train)\n",
    "get_performance(clf_t, X_=X_t_train, y_=y_t_train, sample=7500)"
   ]
  },
  {
   "cell_type": "code",
   "execution_count": 313,
   "metadata": {},
   "outputs": [
    {
     "name": "stdout",
     "output_type": "stream",
     "text": [
      "percision is: 0.8670666666666667\n",
      "recall is: 1.0\n",
      "roc_auc is: 0.5\n",
      "confusion matrix: \n",
      "[[   0  997]\n",
      " [   0 6503]]\n"
     ]
    }
   ],
   "source": [
    "clf_t = neighbors.KNeighborsClassifier(n_neighbors=20, weights='uniform')\n",
    "clf_t.fit(X_t_train.toarray(), y_t_train)\n",
    "get_performance(clf_t, X_=X_t_train, y_=y_t_train, sample=7500)"
   ]
  },
  {
   "cell_type": "markdown",
   "metadata": {},
   "source": [
    "By definition a confusion matrix $ C  $ is such that $ C_{i, j} $ is equal to the number of observations known to be in group $ i $ but predicted to be in group $ j $.\n",
    "\n",
    "Thus in binary classification, the count of true negatives is $ C_{0,0} $, false negatives is $ C_{1,0} $ , true positives is $ C_{1,1} $ and false positives is $ C_{0,1} $."
   ]
  },
  {
   "cell_type": "markdown",
   "metadata": {},
   "source": [
    "- percision = 465/(465+1) = 0.9978\n",
    "- recall = 465 / (465+1273) = 0.26"
   ]
  },
  {
   "cell_type": "markdown",
   "metadata": {},
   "source": [
    "# 把新闻内容作为训练集，然后进行分类和预测,从这一行开始再次运行"
   ]
  },
  {
   "cell_type": "code",
   "execution_count": 316,
   "metadata": {},
   "outputs": [
    {
     "data": {
      "text/plain": [
       "KNeighborsClassifier(algorithm='auto', leaf_size=30, metric='minkowski',\n",
       "           metric_params=None, n_jobs=None, n_neighbors=6, p=2,\n",
       "           weights='uniform')"
      ]
     },
     "execution_count": 316,
     "metadata": {},
     "output_type": "execute_result"
    }
   ],
   "source": [
    "clf_c = neighbors.KNeighborsClassifier(n_neighbors=6, weights='uniform')  # or weights='distance'\n",
    "clf_c.fit(X_c_train.toarray(), y_c_train)  # 基于内容来分类"
   ]
  },
  {
   "cell_type": "code",
   "execution_count": 317,
   "metadata": {},
   "outputs": [
    {
     "name": "stdout",
     "output_type": "stream",
     "text": [
      "percision is: 0.8787716955941255\n",
      "recall is: 0.9993926510780443\n",
      "roc_auc is: 0.5029786012501819\n",
      "confusion matrix: \n",
      "[[   6  908]\n",
      " [   4 6582]]\n"
     ]
    }
   ],
   "source": [
    "get_performance(clf_c, X_=X_c_train, y_=y_c_train, sample=7500)  # 训练集就6000条数据"
   ]
  },
  {
   "cell_type": "code",
   "execution_count": 318,
   "metadata": {},
   "outputs": [
    {
     "name": "stdout",
     "output_type": "stream",
     "text": [
      "percision is: 0.8783621035728623\n",
      "recall is: 0.9977200182398541\n",
      "roc_auc is: 0.505374667100383\n",
      "confusion matrix: \n",
      "[[  12  909]\n",
      " [  15 6564]]\n"
     ]
    }
   ],
   "source": [
    "clf_c = neighbors.KNeighborsClassifier(n_neighbors=8, weights='uniform')  # or weights='distance'\n",
    "clf_c.fit(X_c_train.toarray(), y_c_train)  # 基于内容来分类\n",
    "get_performance(clf_c, X_=X_c_train, y_=y_c_train, sample=7500)  # 训练集就6000条数据"
   ]
  },
  {
   "cell_type": "code",
   "execution_count": 319,
   "metadata": {},
   "outputs": [
    {
     "name": "stdout",
     "output_type": "stream",
     "text": [
      "percision is: 0.8685965848452508\n",
      "recall is: 1.0\n",
      "roc_auc is: 0.5020222446916076\n",
      "confusion matrix: \n",
      "[[   4  985]\n",
      " [   0 6511]]\n"
     ]
    }
   ],
   "source": [
    "clf_c = neighbors.KNeighborsClassifier(n_neighbors=12, weights='uniform')  # or weights='distance'\n",
    "clf_c.fit(X_c_train.toarray(), y_c_train)  # 基于内容来分类\n",
    "get_performance(clf_c, X_=X_c_train, y_=y_c_train, sample=7500)  # 训练集就6000条数据"
   ]
  },
  {
   "cell_type": "code",
   "execution_count": 127,
   "metadata": {},
   "outputs": [
    {
     "name": "stdout",
     "output_type": "stream",
     "text": [
      "percision is: 0.9872589531680441\n",
      "recall is: 0.5453680806543656\n",
      "roc_auc is: 0.747784982453697\n",
      "confusion matrix: \n",
      "[[ 706   37]\n",
      " [2390 2867]]\n"
     ]
    }
   ],
   "source": [
    "clf_c = neighbors.KNeighborsClassifier(n_neighbors=20, weights='uniform')  # or weights='distance'\n",
    "clf_c.fit(X_c_train.toarray(), y_c_train)  # 基于内容来分类\n",
    "get_performance(clf_c, X_=X_c_train, y_=y_c_train, sample=7500)  # 训练集就6000条数据"
   ]
  },
  {
   "cell_type": "code",
   "execution_count": null,
   "metadata": {},
   "outputs": [],
   "source": []
  },
  {
   "cell_type": "markdown",
   "metadata": {},
   "source": [
    "# Step9: 找出所以预测为 1， 但是实际为 0 的文章。 作为抄袭的候选者\n",
    "- 思路是把所有标记为不是新华社的文章进行预测，如果预测值为新华社的文章则判定为抄袭新华社"
   ]
  },
  {
   "cell_type": "code",
   "execution_count": 359,
   "metadata": {},
   "outputs": [],
   "source": [
    "fakeNews = contents[contents['source'] != '新华社']  # 这只是语料库中的一部分"
   ]
  },
  {
   "cell_type": "code",
   "execution_count": 360,
   "metadata": {},
   "outputs": [
    {
     "data": {
      "text/plain": [
       "1255"
      ]
     },
     "execution_count": 360,
     "metadata": {},
     "output_type": "execute_result"
    }
   ],
   "source": [
    "len(fakeNews)"
   ]
  },
  {
   "cell_type": "code",
   "execution_count": 362,
   "metadata": {},
   "outputs": [
    {
     "data": {
      "text/html": [
       "<div>\n",
       "<style scoped>\n",
       "    .dataframe tbody tr th:only-of-type {\n",
       "        vertical-align: middle;\n",
       "    }\n",
       "\n",
       "    .dataframe tbody tr th {\n",
       "        vertical-align: top;\n",
       "    }\n",
       "\n",
       "    .dataframe thead th {\n",
       "        text-align: right;\n",
       "    }\n",
       "</style>\n",
       "<table border=\"1\" class=\"dataframe\">\n",
       "  <thead>\n",
       "    <tr style=\"text-align: right;\">\n",
       "      <th></th>\n",
       "      <th>id</th>\n",
       "      <th>author</th>\n",
       "      <th>source</th>\n",
       "      <th>content</th>\n",
       "      <th>feature</th>\n",
       "      <th>title</th>\n",
       "      <th>url</th>\n",
       "      <th>is_xinhua</th>\n",
       "    </tr>\n",
       "  </thead>\n",
       "  <tbody>\n",
       "    <tr>\n",
       "      <th>10634</th>\n",
       "      <td>78979</td>\n",
       "      <td></td>\n",
       "      <td>河南日报第03版</td>\n",
       "      <td>本报讯6月10日雨天的早晨天亮得晚一些但南阳市卧龙区蒲山镇师杨庄村贫困户袁玉敏已经早早起床伺...</td>\n",
       "      <td>{\"type\":\"要闻\",\"site\":\"河南日报\",\"commentNum\":\"0\",\"j...</td>\n",
       "      <td>车间进农户脱贫有出路</td>\n",
       "      <td>http://newpaper.dahe.cn/hnrb/html/2017-06/14/c...</td>\n",
       "      <td>0</td>\n",
       "    </tr>\n",
       "    <tr>\n",
       "      <th>6672</th>\n",
       "      <td>82945</td>\n",
       "      <td></td>\n",
       "      <td>经济参考报</td>\n",
       "      <td>工业和信息化部部长苗圩19日在参观青海省西宁市南川工业园区时表示未来将进一步推进新能源汽车顶...</td>\n",
       "      <td>{\"type\":\"新闻\",\"site\":\"中证网\",\"commentNum\":\"0\",\"jo...</td>\n",
       "      <td>工信部将推进新能源车顶层设计多领域政策将制定</td>\n",
       "      <td>http://www.cs.com.cn/xwzx/201706/t20170620_533...</td>\n",
       "      <td>0</td>\n",
       "    </tr>\n",
       "  </tbody>\n",
       "</table>\n",
       "</div>"
      ],
      "text/plain": [
       "          id author    source  \\\n",
       "10634  78979         河南日报第03版   \n",
       "6672   82945            经济参考报   \n",
       "\n",
       "                                                 content  \\\n",
       "10634  本报讯6月10日雨天的早晨天亮得晚一些但南阳市卧龙区蒲山镇师杨庄村贫困户袁玉敏已经早早起床伺...   \n",
       "6672   工业和信息化部部长苗圩19日在参观青海省西宁市南川工业园区时表示未来将进一步推进新能源汽车顶...   \n",
       "\n",
       "                                                 feature  \\\n",
       "10634  {\"type\":\"要闻\",\"site\":\"河南日报\",\"commentNum\":\"0\",\"j...   \n",
       "6672   {\"type\":\"新闻\",\"site\":\"中证网\",\"commentNum\":\"0\",\"jo...   \n",
       "\n",
       "                        title  \\\n",
       "10634              车间进农户脱贫有出路   \n",
       "6672   工信部将推进新能源车顶层设计多领域政策将制定   \n",
       "\n",
       "                                                     url  is_xinhua  \n",
       "10634  http://newpaper.dahe.cn/hnrb/html/2017-06/14/c...          0  \n",
       "6672   http://www.cs.com.cn/xwzx/201706/t20170620_533...          0  "
      ]
     },
     "execution_count": 362,
     "metadata": {},
     "output_type": "execute_result"
    }
   ],
   "source": [
    "fakeNews[0:2]"
   ]
  },
  {
   "cell_type": "code",
   "execution_count": 363,
   "metadata": {},
   "outputs": [],
   "source": [
    "fake_content = fakeNews['content'].values # 提取contents的内容"
   ]
  },
  {
   "cell_type": "code",
   "execution_count": 364,
   "metadata": {},
   "outputs": [],
   "source": [
    "fake_y = fakeNews['is_xinhua'].values  # 标记值"
   ]
  },
  {
   "cell_type": "code",
   "execution_count": 366,
   "metadata": {},
   "outputs": [],
   "source": [
    "vectorizer = TfidfVectorizer(max_features=600)  # 提取排名前600个特征"
   ]
  },
  {
   "cell_type": "code",
   "execution_count": 367,
   "metadata": {},
   "outputs": [],
   "source": [
    "fake_content = vectorizer.fit_transform(fake_content) "
   ]
  },
  {
   "cell_type": "code",
   "execution_count": 368,
   "metadata": {},
   "outputs": [
    {
     "data": {
      "text/plain": [
       "(1255, 600)"
      ]
     },
     "execution_count": 368,
     "metadata": {},
     "output_type": "execute_result"
    }
   ],
   "source": [
    "fake_content.shape"
   ]
  },
  {
   "cell_type": "code",
   "execution_count": null,
   "metadata": {},
   "outputs": [],
   "source": []
  },
  {
   "cell_type": "markdown",
   "metadata": {},
   "source": [
    "- 基于新闻内容训练出来的分类器来进行预测"
   ]
  },
  {
   "cell_type": "code",
   "execution_count": 369,
   "metadata": {},
   "outputs": [
    {
     "data": {
      "text/plain": [
       "KNeighborsClassifier(algorithm='auto', leaf_size=30, metric='minkowski',\n",
       "           metric_params=None, n_jobs=None, n_neighbors=6, p=2,\n",
       "           weights='uniform')"
      ]
     },
     "execution_count": 369,
     "metadata": {},
     "output_type": "execute_result"
    }
   ],
   "source": [
    "clf_c = neighbors.KNeighborsClassifier(n_neighbors=6, weights='uniform')  # or weights='distance'\n",
    "clf_c.fit(X_c_train.toarray(), y_c_train)  # 基于内容来分类"
   ]
  },
  {
   "cell_type": "code",
   "execution_count": 370,
   "metadata": {},
   "outputs": [],
   "source": [
    "fake_y_predict = clf_c.predict(fake_content.toarray())  # 对测试集进行预测，然后与标签进行比较"
   ]
  },
  {
   "cell_type": "code",
   "execution_count": 372,
   "metadata": {},
   "outputs": [
    {
     "data": {
      "text/plain": [
       "1255"
      ]
     },
     "execution_count": 372,
     "metadata": {},
     "output_type": "execute_result"
    }
   ],
   "source": [
    "len(fake_y_predict)"
   ]
  },
  {
   "cell_type": "code",
   "execution_count": 373,
   "metadata": {},
   "outputs": [],
   "source": [
    "count_fake = 0\n",
    "for i in range(len(fake_y_predict)):\n",
    "    if fake_y_predict[i]==1:\n",
    "        count_fake += 1"
   ]
  },
  {
   "cell_type": "code",
   "execution_count": 374,
   "metadata": {},
   "outputs": [
    {
     "data": {
      "text/plain": [
       "1246"
      ]
     },
     "execution_count": 374,
     "metadata": {},
     "output_type": "execute_result"
    }
   ],
   "source": [
    "count_fake"
   ]
  },
  {
   "cell_type": "code",
   "execution_count": 376,
   "metadata": {},
   "outputs": [
    {
     "name": "stdout",
     "output_type": "stream",
     "text": [
      "percision is: 0.012810248198558846\n",
      "recall is: 0.9411764705882353\n",
      "roc_auc is: 0.47260762140074125\n",
      "confusion matrix: \n",
      "[[   5 1233]\n",
      " [   1   16]]\n"
     ]
    }
   ],
   "source": [
    "get_performance(clf_c, X_=fake_content, y_=fake_y, sample=1255)  # 训练集就1250条数据"
   ]
  },
  {
   "cell_type": "code",
   "execution_count": 324,
   "metadata": {},
   "outputs": [],
   "source": [
    "# y_c_test 是实际的标签"
   ]
  },
  {
   "cell_type": "code",
   "execution_count": 325,
   "metadata": {},
   "outputs": [],
   "source": [
    "potential_copy_index = [no for no,is_xinhua in enumerate(y_c_test) if is_xinhua==0 and y_test_predict[no]==1]#预测为 1，但是实际为0的文章下标"
   ]
  },
  {
   "cell_type": "code",
   "execution_count": 333,
   "metadata": {},
   "outputs": [
    {
     "data": {
      "text/plain": [
       "286"
      ]
     },
     "execution_count": 333,
     "metadata": {},
     "output_type": "execute_result"
    }
   ],
   "source": [
    "len(potential_copy_index)"
   ]
  },
  {
   "cell_type": "code",
   "execution_count": null,
   "metadata": {},
   "outputs": [],
   "source": []
  },
  {
   "cell_type": "code",
   "execution_count": 326,
   "metadata": {},
   "outputs": [],
   "source": [
    "# 根据index再获得新闻内容 X_c_train, X_c_test, y_c_train, y_c_test "
   ]
  },
  {
   "cell_type": "code",
   "execution_count": 327,
   "metadata": {},
   "outputs": [],
   "source": [
    "potential_copy_vector = [X_c_test[no] for no in potential_copy_index]"
   ]
  },
  {
   "cell_type": "code",
   "execution_count": 335,
   "metadata": {},
   "outputs": [
    {
     "data": {
      "text/plain": [
       "286"
      ]
     },
     "execution_count": 335,
     "metadata": {},
     "output_type": "execute_result"
    }
   ],
   "source": [
    "len(potential_copy_vector)"
   ]
  },
  {
   "cell_type": "code",
   "execution_count": 336,
   "metadata": {},
   "outputs": [
    {
     "data": {
      "text/plain": [
       "<1x600 sparse matrix of type '<class 'numpy.float64'>'\n",
       "\twith 0 stored elements in Compressed Sparse Row format>"
      ]
     },
     "execution_count": 336,
     "metadata": {},
     "output_type": "execute_result"
    }
   ],
   "source": [
    "potential_copy_vector[0]"
   ]
  },
  {
   "cell_type": "code",
   "execution_count": 339,
   "metadata": {},
   "outputs": [
    {
     "data": {
      "text/plain": [
       "10000"
      ]
     },
     "execution_count": 339,
     "metadata": {},
     "output_type": "execute_result"
    }
   ],
   "source": [
    "len(newsID_vec)"
   ]
  },
  {
   "cell_type": "markdown",
   "metadata": {},
   "source": [
    "# 只找到了新闻向量化后的结果，怎么还原到原始的新闻呢?????\n",
    "建立了一个dict来映射向量与新闻"
   ]
  },
  {
   "cell_type": "code",
   "execution_count": 354,
   "metadata": {},
   "outputs": [],
   "source": [
    "fake_news_id = []\n",
    "for vec in potential_copy_vector:  # 256\n",
    "    for key, value in newsID_vec.items(): # 10000\n",
    "        if np.all(vec.toarray()==value.toarray())==True and key not in fake_news_id: # 1*600 * 256\n",
    "            fake_news_id.append(key)"
   ]
  },
  {
   "cell_type": "code",
   "execution_count": 355,
   "metadata": {},
   "outputs": [
    {
     "data": {
      "text/plain": [
       "9001"
      ]
     },
     "execution_count": 355,
     "metadata": {},
     "output_type": "execute_result"
    }
   ],
   "source": [
    "len(fake_news_id)"
   ]
  },
  {
   "cell_type": "code",
   "execution_count": 356,
   "metadata": {},
   "outputs": [
    {
     "data": {
      "text/plain": [
       "[78979,\n",
       " 14922,\n",
       " 82945,\n",
       " 20254,\n",
       " 55800,\n",
       " 10684,\n",
       " 43058,\n",
       " 75257,\n",
       " 44818,\n",
       " 30149,\n",
       " 5566,\n",
       " 70452,\n",
       " 60149,\n",
       " 21412,\n",
       " 5054,\n",
       " 62833,\n",
       " 13636,\n",
       " 12496,\n",
       " 24302,\n",
       " 80646]"
      ]
     },
     "execution_count": 356,
     "metadata": {},
     "output_type": "execute_result"
    }
   ],
   "source": [
    "fake_news_id[0:20]"
   ]
  },
  {
   "cell_type": "code",
   "execution_count": 347,
   "metadata": {},
   "outputs": [
    {
     "data": {
      "text/html": [
       "<div>\n",
       "<style scoped>\n",
       "    .dataframe tbody tr th:only-of-type {\n",
       "        vertical-align: middle;\n",
       "    }\n",
       "\n",
       "    .dataframe tbody tr th {\n",
       "        vertical-align: top;\n",
       "    }\n",
       "\n",
       "    .dataframe thead th {\n",
       "        text-align: right;\n",
       "    }\n",
       "</style>\n",
       "<table border=\"1\" class=\"dataframe\">\n",
       "  <thead>\n",
       "    <tr style=\"text-align: right;\">\n",
       "      <th></th>\n",
       "      <th>id</th>\n",
       "      <th>author</th>\n",
       "      <th>source</th>\n",
       "      <th>content</th>\n",
       "      <th>feature</th>\n",
       "      <th>title</th>\n",
       "      <th>url</th>\n",
       "      <th>is_xinhua</th>\n",
       "    </tr>\n",
       "  </thead>\n",
       "  <tbody>\n",
       "    <tr>\n",
       "      <th>10634</th>\n",
       "      <td>78979</td>\n",
       "      <td></td>\n",
       "      <td>河南日报第03版</td>\n",
       "      <td>本报讯6月10日雨天的早晨天亮得晚一些但南阳市卧龙区蒲山镇师杨庄村贫困户袁玉敏已经早早起床伺...</td>\n",
       "      <td>{\"type\":\"要闻\",\"site\":\"河南日报\",\"commentNum\":\"0\",\"j...</td>\n",
       "      <td>车间进农户脱贫有出路</td>\n",
       "      <td>http://newpaper.dahe.cn/hnrb/html/2017-06/14/c...</td>\n",
       "      <td>0</td>\n",
       "    </tr>\n",
       "  </tbody>\n",
       "</table>\n",
       "</div>"
      ],
      "text/plain": [
       "          id author    source  \\\n",
       "10634  78979         河南日报第03版   \n",
       "\n",
       "                                                 content  \\\n",
       "10634  本报讯6月10日雨天的早晨天亮得晚一些但南阳市卧龙区蒲山镇师杨庄村贫困户袁玉敏已经早早起床伺...   \n",
       "\n",
       "                                                 feature       title  \\\n",
       "10634  {\"type\":\"要闻\",\"site\":\"河南日报\",\"commentNum\":\"0\",\"j...  车间进农户脱贫有出路   \n",
       "\n",
       "                                                     url  is_xinhua  \n",
       "10634  http://newpaper.dahe.cn/hnrb/html/2017-06/14/c...          0  "
      ]
     },
     "execution_count": 347,
     "metadata": {},
     "output_type": "execute_result"
    }
   ],
   "source": [
    "contents[contents['id'] == 78979]"
   ]
  },
  {
   "cell_type": "code",
   "execution_count": 348,
   "metadata": {},
   "outputs": [
    {
     "data": {
      "text/plain": [
       "Index(['id', 'author', 'source', 'content', 'feature', 'title', 'url',\n",
       "       'is_xinhua'],\n",
       "      dtype='object')"
      ]
     },
     "execution_count": 348,
     "metadata": {},
     "output_type": "execute_result"
    }
   ],
   "source": [
    "contents.columns"
   ]
  },
  {
   "cell_type": "code",
   "execution_count": 349,
   "metadata": {},
   "outputs": [],
   "source": [
    "fake_news = pd.DataFrame(columns=['id', 'author', 'source', 'content', 'feature', 'title', 'url', 'is_xinhua'])\n",
    "for id in fake_news_id:\n",
    "    fake_news = fake_news.append(contents[contents['id'] == id])"
   ]
  },
  {
   "cell_type": "code",
   "execution_count": 350,
   "metadata": {},
   "outputs": [
    {
     "data": {
      "text/html": [
       "<div>\n",
       "<style scoped>\n",
       "    .dataframe tbody tr th:only-of-type {\n",
       "        vertical-align: middle;\n",
       "    }\n",
       "\n",
       "    .dataframe tbody tr th {\n",
       "        vertical-align: top;\n",
       "    }\n",
       "\n",
       "    .dataframe thead th {\n",
       "        text-align: right;\n",
       "    }\n",
       "</style>\n",
       "<table border=\"1\" class=\"dataframe\">\n",
       "  <thead>\n",
       "    <tr style=\"text-align: right;\">\n",
       "      <th></th>\n",
       "      <th>id</th>\n",
       "      <th>author</th>\n",
       "      <th>source</th>\n",
       "      <th>content</th>\n",
       "      <th>feature</th>\n",
       "      <th>title</th>\n",
       "      <th>url</th>\n",
       "      <th>is_xinhua</th>\n",
       "    </tr>\n",
       "  </thead>\n",
       "  <tbody>\n",
       "    <tr>\n",
       "      <th>10634</th>\n",
       "      <td>78979</td>\n",
       "      <td></td>\n",
       "      <td>河南日报第03版</td>\n",
       "      <td>本报讯6月10日雨天的早晨天亮得晚一些但南阳市卧龙区蒲山镇师杨庄村贫困户袁玉敏已经早早起床伺...</td>\n",
       "      <td>{\"type\":\"要闻\",\"site\":\"河南日报\",\"commentNum\":\"0\",\"j...</td>\n",
       "      <td>车间进农户脱贫有出路</td>\n",
       "      <td>http://newpaper.dahe.cn/hnrb/html/2017-06/14/c...</td>\n",
       "      <td>0</td>\n",
       "    </tr>\n",
       "    <tr>\n",
       "      <th>10634</th>\n",
       "      <td>78979</td>\n",
       "      <td></td>\n",
       "      <td>河南日报第03版</td>\n",
       "      <td>本报讯6月10日雨天的早晨天亮得晚一些但南阳市卧龙区蒲山镇师杨庄村贫困户袁玉敏已经早早起床伺...</td>\n",
       "      <td>{\"type\":\"要闻\",\"site\":\"河南日报\",\"commentNum\":\"0\",\"j...</td>\n",
       "      <td>车间进农户脱贫有出路</td>\n",
       "      <td>http://newpaper.dahe.cn/hnrb/html/2017-06/14/c...</td>\n",
       "      <td>0</td>\n",
       "    </tr>\n",
       "    <tr>\n",
       "      <th>10634</th>\n",
       "      <td>78979</td>\n",
       "      <td></td>\n",
       "      <td>河南日报第03版</td>\n",
       "      <td>本报讯6月10日雨天的早晨天亮得晚一些但南阳市卧龙区蒲山镇师杨庄村贫困户袁玉敏已经早早起床伺...</td>\n",
       "      <td>{\"type\":\"要闻\",\"site\":\"河南日报\",\"commentNum\":\"0\",\"j...</td>\n",
       "      <td>车间进农户脱贫有出路</td>\n",
       "      <td>http://newpaper.dahe.cn/hnrb/html/2017-06/14/c...</td>\n",
       "      <td>0</td>\n",
       "    </tr>\n",
       "    <tr>\n",
       "      <th>10634</th>\n",
       "      <td>78979</td>\n",
       "      <td></td>\n",
       "      <td>河南日报第03版</td>\n",
       "      <td>本报讯6月10日雨天的早晨天亮得晚一些但南阳市卧龙区蒲山镇师杨庄村贫困户袁玉敏已经早早起床伺...</td>\n",
       "      <td>{\"type\":\"要闻\",\"site\":\"河南日报\",\"commentNum\":\"0\",\"j...</td>\n",
       "      <td>车间进农户脱贫有出路</td>\n",
       "      <td>http://newpaper.dahe.cn/hnrb/html/2017-06/14/c...</td>\n",
       "      <td>0</td>\n",
       "    </tr>\n",
       "    <tr>\n",
       "      <th>10634</th>\n",
       "      <td>78979</td>\n",
       "      <td></td>\n",
       "      <td>河南日报第03版</td>\n",
       "      <td>本报讯6月10日雨天的早晨天亮得晚一些但南阳市卧龙区蒲山镇师杨庄村贫困户袁玉敏已经早早起床伺...</td>\n",
       "      <td>{\"type\":\"要闻\",\"site\":\"河南日报\",\"commentNum\":\"0\",\"j...</td>\n",
       "      <td>车间进农户脱贫有出路</td>\n",
       "      <td>http://newpaper.dahe.cn/hnrb/html/2017-06/14/c...</td>\n",
       "      <td>0</td>\n",
       "    </tr>\n",
       "  </tbody>\n",
       "</table>\n",
       "</div>"
      ],
      "text/plain": [
       "          id author    source  \\\n",
       "10634  78979         河南日报第03版   \n",
       "10634  78979         河南日报第03版   \n",
       "10634  78979         河南日报第03版   \n",
       "10634  78979         河南日报第03版   \n",
       "10634  78979         河南日报第03版   \n",
       "\n",
       "                                                 content  \\\n",
       "10634  本报讯6月10日雨天的早晨天亮得晚一些但南阳市卧龙区蒲山镇师杨庄村贫困户袁玉敏已经早早起床伺...   \n",
       "10634  本报讯6月10日雨天的早晨天亮得晚一些但南阳市卧龙区蒲山镇师杨庄村贫困户袁玉敏已经早早起床伺...   \n",
       "10634  本报讯6月10日雨天的早晨天亮得晚一些但南阳市卧龙区蒲山镇师杨庄村贫困户袁玉敏已经早早起床伺...   \n",
       "10634  本报讯6月10日雨天的早晨天亮得晚一些但南阳市卧龙区蒲山镇师杨庄村贫困户袁玉敏已经早早起床伺...   \n",
       "10634  本报讯6月10日雨天的早晨天亮得晚一些但南阳市卧龙区蒲山镇师杨庄村贫困户袁玉敏已经早早起床伺...   \n",
       "\n",
       "                                                 feature       title  \\\n",
       "10634  {\"type\":\"要闻\",\"site\":\"河南日报\",\"commentNum\":\"0\",\"j...  车间进农户脱贫有出路   \n",
       "10634  {\"type\":\"要闻\",\"site\":\"河南日报\",\"commentNum\":\"0\",\"j...  车间进农户脱贫有出路   \n",
       "10634  {\"type\":\"要闻\",\"site\":\"河南日报\",\"commentNum\":\"0\",\"j...  车间进农户脱贫有出路   \n",
       "10634  {\"type\":\"要闻\",\"site\":\"河南日报\",\"commentNum\":\"0\",\"j...  车间进农户脱贫有出路   \n",
       "10634  {\"type\":\"要闻\",\"site\":\"河南日报\",\"commentNum\":\"0\",\"j...  车间进农户脱贫有出路   \n",
       "\n",
       "                                                     url is_xinhua  \n",
       "10634  http://newpaper.dahe.cn/hnrb/html/2017-06/14/c...         0  \n",
       "10634  http://newpaper.dahe.cn/hnrb/html/2017-06/14/c...         0  \n",
       "10634  http://newpaper.dahe.cn/hnrb/html/2017-06/14/c...         0  \n",
       "10634  http://newpaper.dahe.cn/hnrb/html/2017-06/14/c...         0  \n",
       "10634  http://newpaper.dahe.cn/hnrb/html/2017-06/14/c...         0  "
      ]
     },
     "execution_count": 350,
     "metadata": {},
     "output_type": "execute_result"
    }
   ],
   "source": [
    "fake_news.head()"
   ]
  },
  {
   "cell_type": "markdown",
   "metadata": {},
   "source": [
    "# Step10： 总结该过程，什么是数据思维？什么是机器学习思维？\n",
    "- 总结：step1-step9，步骤很清晰，每一步所做的工作很明确\n",
    "- 数据思维：通过统计分析，推理等，发现原始数据之间的规律，然后利用规律去处理其他数据\n",
    "- 机器学习思维：建立模型，通过大量的原始数据进行训练，然后利用模型对新数据进行预测"
   ]
  },
  {
   "cell_type": "markdown",
   "metadata": {},
   "source": [
    "# --------------------------------------Assignments-08----------------------------------------------\n",
    "- 1. Using the new data to test different models \n",
    "\n",
    "  • KNN, **Logistic Regression, SVM, Bayes, Random Forest, XGBoost** \n",
    "\n",
    "  • To Classify if a new a by Xinhua.\n",
    "  \n",
    "  \n",
    "- 2. Summary the advantages and disadvantages about Linear Regression, Logistic Regression, K-Nearest Neighbors, Support Vector Machine, Bayes, etc. "
   ]
  },
  {
   "cell_type": "markdown",
   "metadata": {},
   "source": [
    "# Step11: 利用第8课讲述的新模型，进行操作，感受其中不同的参数、模型对性能的影响"
   ]
  },
  {
   "cell_type": "markdown",
   "metadata": {},
   "source": [
    "### 1:逻辑回归 "
   ]
  },
  {
   "cell_type": "code",
   "execution_count": 378,
   "metadata": {},
   "outputs": [
    {
     "name": "stdout",
     "output_type": "stream",
     "text": [
      "percision is: 0.8797704830531091\n",
      "recall is: 0.9990907713289893\n",
      "roc_auc is: 0.49954538566449463\n",
      "confusion matrix: \n",
      "[[   0  901]\n",
      " [   6 6593]]\n"
     ]
    }
   ],
   "source": [
    "from sklearn.linear_model import LogisticRegression\n",
    "clfLR = LogisticRegression(solver='saga').fit(X_c_train.toarray(), y_c_train)\n",
    "get_performance(clfLR, X_=X_t_train, y_=y_train, sample=7500)"
   ]
  },
  {
   "cell_type": "markdown",
   "metadata": {},
   "source": [
    "### 2:支持向量机"
   ]
  },
  {
   "cell_type": "code",
   "execution_count": 381,
   "metadata": {},
   "outputs": [
    {
     "name": "stdout",
     "output_type": "stream",
     "text": [
      "percision is: 0.8713637576728049\n",
      "recall is: 0.9990820073439413\n",
      "roc_auc is: 0.49954100367197063\n",
      "confusion matrix: \n",
      "[[   0  964]\n",
      " [   6 6530]]\n"
     ]
    }
   ],
   "source": [
    "from sklearn.svm import LinearSVC\n",
    "clfSVM = LinearSVC(dual=False).fit(X_c_train.toarray(), y_c_train)\n",
    "get_performance(clfSVM, X_=X_t_train, y_=y_train, sample=7500)"
   ]
  },
  {
   "cell_type": "markdown",
   "metadata": {},
   "source": [
    "### 3:高斯贝叶斯分类器"
   ]
  },
  {
   "cell_type": "code",
   "execution_count": 382,
   "metadata": {},
   "outputs": [
    {
     "name": "stdout",
     "output_type": "stream",
     "text": [
      "percision is: 0.8815533980582524\n",
      "recall is: 0.06891317547055252\n",
      "roc_auc is: 0.5010136052791359\n",
      "confusion matrix: \n",
      "[[ 851   61]\n",
      " [6134  454]]\n"
     ]
    }
   ],
   "source": [
    "from sklearn.naive_bayes import GaussianNB  # GaussianNB就是先验为高斯分布的朴素贝叶斯\n",
    "clfNB = GaussianNB()  # 高斯贝叶斯分类器,还有NultinomialNB和BernoulliNB这两个，用法是一样的\n",
    "clfNB.fit(X_c_train.toarray(), y_c_train)\n",
    "get_performance(clfNB, X_=X_t_train, y_=y_train, sample=7500)"
   ]
  },
  {
   "cell_type": "markdown",
   "metadata": {},
   "source": [
    "### 4:随机森林"
   ]
  },
  {
   "cell_type": "code",
   "execution_count": 386,
   "metadata": {},
   "outputs": [
    {
     "name": "stdout",
     "output_type": "stream",
     "text": [
      "percision is: 0.8779869176344948\n",
      "recall is: 0.9986334649255998\n",
      "roc_auc is: 0.4993167324627999\n",
      "confusion matrix: \n",
      "[[   0  914]\n",
      " [   9 6577]]\n"
     ]
    }
   ],
   "source": [
    "from sklearn.ensemble import RandomForestClassifier\n",
    "clfRFC = RandomForestClassifier(n_estimators=100, random_state=0).fit(X_c_train.toarray(), y_c_train)\n",
    "get_performance(clfRFC, X_=X_t_train, y_=y_train, sample=7500)"
   ]
  },
  {
   "cell_type": "markdown",
   "metadata": {},
   "source": [
    "### 5:XGBoost"
   ]
  },
  {
   "cell_type": "markdown",
   "metadata": {},
   "source": []
  },
  {
   "cell_type": "markdown",
   "metadata": {},
   "source": [
    "### 6:决策树模型"
   ]
  },
  {
   "cell_type": "code",
   "execution_count": 384,
   "metadata": {},
   "outputs": [
    {
     "name": "stdout",
     "output_type": "stream",
     "text": [
      "percision is: 0.8776354416866827\n",
      "recall is: 0.9990885614461492\n",
      "roc_auc is: 0.4995442807230746\n",
      "confusion matrix: \n",
      "[[   0  917]\n",
      " [   6 6577]]\n"
     ]
    }
   ],
   "source": [
    "from sklearn.tree import DecisionTreeClassifier\n",
    "clfDTC = DecisionTreeClassifier().fit(X_c_train.toarray(), y_c_train)\n",
    "get_performance(clfDTC, X_=X_t_train, y_=y_train, sample=7500)"
   ]
  },
  {
   "cell_type": "code",
   "execution_count": null,
   "metadata": {},
   "outputs": [],
   "source": []
  },
  {
   "cell_type": "code",
   "execution_count": null,
   "metadata": {},
   "outputs": [],
   "source": []
  },
  {
   "cell_type": "markdown",
   "metadata": {},
   "source": [
    "# 总结优缺点\n",
    "https://zhuanlan.zhihu.com/p/46831267"
   ]
  },
  {
   "cell_type": "code",
   "execution_count": null,
   "metadata": {},
   "outputs": [],
   "source": []
  }
 ],
 "metadata": {
  "kernelspec": {
   "display_name": "Python 3",
   "language": "python",
   "name": "python3"
  },
  "language_info": {
   "codemirror_mode": {
    "name": "ipython",
    "version": 3
   },
   "file_extension": ".py",
   "mimetype": "text/x-python",
   "name": "python",
   "nbconvert_exporter": "python",
   "pygments_lexer": "ipython3",
   "version": "3.7.3"
  }
 },
 "nbformat": 4,
 "nbformat_minor": 2
}
